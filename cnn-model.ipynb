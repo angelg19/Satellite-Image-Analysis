{
 "cells": [
  {
   "cell_type": "code",
   "execution_count": 1,
   "metadata": {},
   "outputs": [],
   "source": [
    "import os\n",
    "import numpy as np\n",
    "import pandas as pd\n",
    "import cv2\n",
    "import tensorflow as tf\n",
    "from tensorflow.keras import layers, models\n",
    "\n",
    "# Constants\n",
    "IMAGE_SIZE = (128, 128)  # Resize images to 128x128\n",
    "BATCH_SIZE = 32\n",
    "\n",
    "# Load labels from the CSV file\n",
    "def load_labels_from_csv(csv_file):\n",
    "    df = pd.read_csv(csv_file)\n",
    "    filenames = df['image_name'].values\n",
    "    classes = df['tags'].values\n",
    "    return filenames, classes\n",
    "\n",
    "# Load images based on filenames from CSV\n",
    "def load_images_from_folder(folder, filenames):\n",
    "    images = []\n",
    "    i =  0\n",
    "    for filename in filenames:\n",
    "        # if i > 1000:\n",
    "        #     break\n",
    "        if filename.endswith('.jpg'):\n",
    "            img_path = os.path.join(folder, filename)\n",
    "            img = cv2.imread(img_path)\n",
    "            if img is not None:\n",
    "                img = cv2.resize(img, IMAGE_SIZE)\n",
    "                images.append(img)\n",
    "                \n",
    "    return np.array(images)\n",
    "\n",
    "\n"
   ]
  },
  {
   "cell_type": "code",
   "execution_count": 2,
   "metadata": {},
   "outputs": [
    {
     "name": "stdout",
     "output_type": "stream",
     "text": [
      "(40479,)\n",
      "['train_0.jpg', 'train_1.jpg', 'train_2.jpg', 'train_3.jpg', 'train_4.jpg', 'train_5.jpg', 'train_6.jpg', 'train_7.jpg', 'train_8.jpg', 'train_9.jpg']\n",
      "X:  40479 \n",
      "Y:  40479\n"
     ]
    }
   ],
   "source": [
    "from sklearn.preprocessing import LabelEncoder\n",
    "\n",
    "\n",
    "# Load data\n",
    "filenames, y = load_labels_from_csv('/Users/angel/OneDrive/Desktop/CS 4100/Satellite_Image_Classifier/data/train_v2.csv')\n",
    "filenames = [name + '.jpg' for name in filenames]\n",
    "\n",
    "image_folder = '/Users/angel/OneDrive/Desktop/CS 4100/train-jpg/train-jpg/'\n",
    "X = []\n",
    "\n",
    "X = load_images_from_folder(image_folder, filenames)\n",
    "print(np.shape(filenames))\n",
    "print(filenames[0:10])\n",
    "# Normalize the images\n",
    "X = X.astype('float32') / 255.0\n",
    "\n",
    "label_encoder = LabelEncoder()\n",
    "y_encoded = label_encoder.fit_transform(y)\n",
    "\n",
    "\n",
    "print('X: ', len(X), '\\nY: ', len(y))"
   ]
  },
  {
   "cell_type": "code",
   "execution_count": 5,
   "metadata": {},
   "outputs": [
    {
     "name": "stdout",
     "output_type": "stream",
     "text": [
      "449\n"
     ]
    }
   ],
   "source": [
    "num_classes = len(np.unique(y_encoded))\n",
    "print(num_classes)"
   ]
  },
  {
   "cell_type": "code",
   "execution_count": null,
   "metadata": {},
   "outputs": [],
   "source": [
    "from sklearn.model_selection import train_test_split\n",
    "from sklearn.metrics import accuracy_score\n",
    "\n",
    "# # Split the data into training and testing sets\n",
    "X_train, X_test, y_train, y_test = train_test_split(X, y_encoded, test_size=0.2, random_state=42)\n",
    "\n",
    "model = models.Sequential([\n",
    "    layers.Conv2D(32, (3, 3), activation='relu', input_shape=(IMAGE_SIZE[0], IMAGE_SIZE[1], 3)),\n",
    "    layers.MaxPooling2D((2, 2)),\n",
    "\n",
    "    layers.Conv2D(64, (3, 3), activation='relu'),\n",
    "    layers.MaxPooling2D((2, 2)),\n",
    "\n",
    "    layers.Conv2D(128, (3, 3), activation='relu'),\n",
    "    layers.MaxPooling2D((2, 2)),\n",
    "    \n",
    "    layers.Flatten(),\n",
    "    layers.Dense(128, activation='relu'),\n",
    "    layers.Dense(len(np.unique(y)), activation='softmax')  # Use the number of unique classes\n",
    "])\n",
    "\n",
    "model.compile(optimizer='adam', loss='sparse_categorical_crossentropy', metrics=['accuracy'])\n",
    "\n",
    "model.fit(X_train, y_train, epochs=15, batch_size=BATCH_SIZE, validation_split=0.2)\n",
    "\n",
    "\n",
    "predictions = model.predict(X_test)\n",
    "predicted_classes = np.argmax(predictions, axis=1)\n",
    "\n",
    "accuracy = accuracy_score(predicted_classes, y_test)\n",
    "\n",
    "#test_loss, test_acc = model.evaluate(X_test, y_test)\n",
    "#print(f\"Test accuracy: {test_acc}\")\n",
    "\n",
    "# Example of printing a prediction\n",
    "for i in range(5):  # Print first 5 predictions\n",
    "    print(f\"Predicted class for test image {i}: {predicted_classes[i]} (Actual class: {y_test[i]})\")"
   ]
  }
 ],
 "metadata": {
  "kernelspec": {
   "display_name": "Python 3",
   "language": "python",
   "name": "python3"
  },
  "language_info": {
   "codemirror_mode": {
    "name": "ipython",
    "version": 3
   },
   "file_extension": ".py",
   "mimetype": "text/x-python",
   "name": "python",
   "nbconvert_exporter": "python",
   "pygments_lexer": "ipython3",
   "version": "3.12.4"
  }
 },
 "nbformat": 4,
 "nbformat_minor": 2
}
