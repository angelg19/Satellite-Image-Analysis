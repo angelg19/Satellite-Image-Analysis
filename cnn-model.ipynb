{
 "cells": [
  {
   "cell_type": "code",
   "execution_count": 2,
   "metadata": {},
   "outputs": [],
   "source": [
    "import os\n",
    "import numpy as np\n",
    "import pandas as pd\n",
    "import cv2\n",
    "import tensorflow as tf\n",
    "from tensorflow.keras import layers, models\n",
    "\n",
    "# Constants\n",
    "IMAGE_SIZE = (128, 128)  # Resize images to 128x128\n",
    "BATCH_SIZE = 32\n",
    "\n",
    "# Load labels from the CSV file\n",
    "def load_labels_from_csv(csv_file):\n",
    "    df = pd.read_csv(csv_file)\n",
    "    filenames = df['image_name'].values\n",
    "    classes = df['tags'].values\n",
    "    return filenames, classes\n",
    "\n",
    "# Load images based on filenames from CSV\n",
    "def load_images_from_folder(folder, filenames):\n",
    "    images = []\n",
    "    i =  0\n",
    "    for filename in filenames:\n",
    "        # if i > 1000:\n",
    "        #     break\n",
    "        if filename.endswith('.jpg'):\n",
    "            img_path = os.path.join(folder, filename)\n",
    "            img = cv2.imread(img_path)\n",
    "            if img is not None:\n",
    "                img = cv2.resize(img, IMAGE_SIZE)\n",
    "                images.append(img)\n",
    "                \n",
    "    return np.array(images)\n",
    "\n",
    "\n"
   ]
  },
  {
   "cell_type": "code",
   "execution_count": 3,
   "metadata": {},
   "outputs": [
    {
     "name": "stdout",
     "output_type": "stream",
     "text": [
      "(40479,)\n",
      "X:  40479 \n",
      "Y:  40479\n"
     ]
    }
   ],
   "source": [
    "from sklearn.preprocessing import LabelEncoder\n",
    "\n",
    "# Load data\n",
    "filenames, y = load_labels_from_csv('/Users/angel/OneDrive/Desktop/CS 4100/Satellite_Image_Classifier/data/train_v2.csv')\n",
    "filenames = [name + '.jpg' for name in filenames]\n",
    "image_folder = '/Users/angel/OneDrive/Desktop/CS 4100/train-jpg/train-jpg/'\n",
    "X = []\n",
    "\n",
    "X = load_images_from_folder(image_folder, filenames)\n",
    "print(np.shape(filenames))\n",
    "\n",
    "# Normalize the images\n",
    "X = X.astype('float32') / 255.0\n",
    "\n",
    "label_encoder = LabelEncoder()\n",
    "y_encoded = label_encoder.fit_transform(y)\n",
    "\n",
    "\n",
    "print('X: ', len(X), '\\nY: ', len(y))"
   ]
  },
  {
   "cell_type": "code",
   "execution_count": 4,
   "metadata": {},
   "outputs": [
    {
     "name": "stdout",
     "output_type": "stream",
     "text": [
      "449\n"
     ]
    }
   ],
   "source": [
    "num_classes = len(np.unique(y_encoded))\n",
    "print(num_classes)"
   ]
  },
  {
   "cell_type": "code",
   "execution_count": 12,
   "metadata": {},
   "outputs": [
    {
     "name": "stdout",
     "output_type": "stream",
     "text": [
      "Epoch 1/7\n",
      "\u001b[1m810/810\u001b[0m \u001b[32m━━━━━━━━━━━━━━━━━━━━\u001b[0m\u001b[37m\u001b[0m \u001b[1m71s\u001b[0m 82ms/step - accuracy: 0.3629 - loss: 3.1122 - val_accuracy: 0.4368 - val_loss: 2.5792\n",
      "Epoch 2/7\n",
      "\u001b[1m810/810\u001b[0m \u001b[32m━━━━━━━━━━━━━━━━━━━━\u001b[0m\u001b[37m\u001b[0m \u001b[1m66s\u001b[0m 82ms/step - accuracy: 0.4771 - loss: 2.3520 - val_accuracy: 0.4908 - val_loss: 2.3555\n",
      "Epoch 3/7\n",
      "\u001b[1m810/810\u001b[0m \u001b[32m━━━━━━━━━━━━━━━━━━━━\u001b[0m\u001b[37m\u001b[0m \u001b[1m67s\u001b[0m 82ms/step - accuracy: 0.5006 - loss: 2.1978 - val_accuracy: 0.5032 - val_loss: 2.2343\n",
      "Epoch 4/7\n",
      "\u001b[1m810/810\u001b[0m \u001b[32m━━━━━━━━━━━━━━━━━━━━\u001b[0m\u001b[37m\u001b[0m \u001b[1m69s\u001b[0m 86ms/step - accuracy: 0.5192 - loss: 2.0638 - val_accuracy: 0.5103 - val_loss: 2.2325\n",
      "Epoch 5/7\n",
      "\u001b[1m810/810\u001b[0m \u001b[32m━━━━━━━━━━━━━━━━━━━━\u001b[0m\u001b[37m\u001b[0m \u001b[1m68s\u001b[0m 84ms/step - accuracy: 0.5329 - loss: 1.9747 - val_accuracy: 0.5235 - val_loss: 2.1595\n",
      "Epoch 6/7\n",
      "\u001b[1m810/810\u001b[0m \u001b[32m━━━━━━━━━━━━━━━━━━━━\u001b[0m\u001b[37m\u001b[0m \u001b[1m66s\u001b[0m 81ms/step - accuracy: 0.5536 - loss: 1.8554 - val_accuracy: 0.5293 - val_loss: 2.1142\n",
      "Epoch 7/7\n",
      "\u001b[1m810/810\u001b[0m \u001b[32m━━━━━━━━━━━━━━━━━━━━\u001b[0m\u001b[37m\u001b[0m \u001b[1m66s\u001b[0m 82ms/step - accuracy: 0.5610 - loss: 1.7917 - val_accuracy: 0.5385 - val_loss: 2.1105\n",
      "\u001b[1m253/253\u001b[0m \u001b[32m━━━━━━━━━━━━━━━━━━━━\u001b[0m\u001b[37m\u001b[0m \u001b[1m6s\u001b[0m 24ms/step\n",
      "Test accuracy: 0.5490365612648221\n"
     ]
    }
   ],
   "source": [
    "from sklearn.model_selection import train_test_split\n",
    "from sklearn.metrics import accuracy_score\n",
    "\n",
    "# # Split the data into training and testing sets\n",
    "X_train, X_test, y_train, y_test = train_test_split(X, y_encoded, test_size=0.2, random_state=42)\n",
    "\n",
    "model = models.Sequential([\n",
    "    layers.Conv2D(32, (3, 3), activation='relu', input_shape=(IMAGE_SIZE[0], IMAGE_SIZE[1], 3)),\n",
    "    layers.MaxPooling2D((2, 2)),\n",
    "\n",
    "    layers.Conv2D(64, (3, 3), activation='relu'),\n",
    "    layers.MaxPooling2D((2, 2)),\n",
    "\n",
    "    layers.Conv2D(128, (3, 3), activation='relu'),\n",
    "    layers.MaxPooling2D((2, 2)),\n",
    "    \n",
    "    layers.Flatten(),\n",
    "    layers.Dense(128, activation='relu'),\n",
    "    layers.Dense(len(np.unique(y)), activation='softmax')  # Use the number of unique classes\n",
    "])\n",
    "\n",
    "model.compile(optimizer='adam', loss='sparse_categorical_crossentropy', metrics=['accuracy'])\n",
    "\n",
    "model.fit(X_train, y_train, epochs=7, batch_size=BATCH_SIZE, validation_split=0.2)\n",
    "\n",
    "\n",
    "predictions = model.predict(X_test)\n",
    "predicted_classes = np.argmax(predictions, axis=1)\n",
    "\n",
    "accuracy = accuracy_score(predicted_classes, y_test)\n",
    "\n",
    "print(f\"Test accuracy: {accuracy}\")\n"
   ]
  },
  {
   "cell_type": "code",
   "execution_count": 14,
   "metadata": {},
   "outputs": [
    {
     "name": "stdout",
     "output_type": "stream",
     "text": [
      "Predicted class for test image 0: ['clear primary'] (Actual class: ['clear primary road'])\n",
      "Predicted class for test image 1: ['clear primary water'] (Actual class: ['clear primary water'])\n",
      "Predicted class for test image 2: ['agriculture clear habitation primary road'] (Actual class: ['clear conventional_mine habitation primary road water'])\n",
      "Predicted class for test image 3: ['cloudy'] (Actual class: ['cloudy'])\n",
      "Predicted class for test image 4: ['agriculture clear habitation primary road'] (Actual class: ['agriculture clear cultivation cultivation habitation primary road water'])\n"
     ]
    }
   ],
   "source": [
    "# Example of printing a prediction\n",
    "for i in range(5):  # Print first 5 predictions\n",
    "    print(f\"Predicted class for test image {i}: {label_encoder.inverse_transform([predicted_classes[i]])} (Actual class: {label_encoder.inverse_transform([y_test[i]])})\")"
   ]
  }
 ],
 "metadata": {
  "kernelspec": {
   "display_name": "Python 3",
   "language": "python",
   "name": "python3"
  },
  "language_info": {
   "codemirror_mode": {
    "name": "ipython",
    "version": 3
   },
   "file_extension": ".py",
   "mimetype": "text/x-python",
   "name": "python",
   "nbconvert_exporter": "python",
   "pygments_lexer": "ipython3",
   "version": "3.12.4"
  }
 },
 "nbformat": 4,
 "nbformat_minor": 2
}
