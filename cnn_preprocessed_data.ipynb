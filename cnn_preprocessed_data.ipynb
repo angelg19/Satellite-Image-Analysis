{
 "cells": [
  {
   "cell_type": "code",
   "execution_count": 4,
   "metadata": {},
   "outputs": [
    {
     "name": "stdout",
     "output_type": "stream",
     "text": [
      "TensorFlow version: 2.17.0\n"
     ]
    }
   ],
   "source": [
    "import tensorflow as tf\n",
    "import pandas as pd\n",
    "import numpy as np\n",
    "import os\n",
    "from sklearn.model_selection import train_test_split\n",
    "from itertools import chain\n",
    "from tensorflow.keras import layers\n",
    "import matplotlib.pyplot as plt\n",
    "\n",
    "import matplotlib.image as mpimg\n",
    "\n",
    "\n",
    "# Suppress TensorFlow warnings for clarity\n",
    "import logging\n",
    "logging.getLogger('tensorflow').setLevel(logging.ERROR)\n",
    "\n",
    "print(\"TensorFlow version:\", tf.__version__)\n",
    "\n",
    "data_augmentation = tf.keras.Sequential([\n",
    "    layers.RandomFlip(\"horizontal_and_vertical\"),\n",
    "    layers.RandomRotation(0.1),  # Rotates images by a factor between -10% and +10%\n",
    "    layers.RandomZoom(0.1),\n",
    "])\n",
    "\n",
    "labels_df = pd.read_csv('/Users/angel/OneDrive/Desktop/CS 4100/Satellite_Image_Classifier/data/train_v2.csv')\n",
    "labels_df.head()\n",
    "\n",
    "# Print all unique tags\n",
    "# from itertools import chain\n",
    "labels_list = list(chain.from_iterable([tags.split(\" \") for tags in labels_df['tags'].values]))\n",
    "labels_set = set(labels_list)\n",
    "\n",
    "images_title = [labels_df[labels_df['tags'].str.contains(label)].iloc[i]['image_name'] + '.jpg' \n",
    "                for i, label in enumerate(labels_set)]\n",
    "\n",
    "# plt.rc('axes', grid=False)\n",
    "# _, axs = plt.subplots(5, 4, sharex='col', sharey='row', figsize=(15, 20))\n",
    "# axs = axs.ravel()\n",
    "\n",
    "# for i, (image_name, label) in enumerate(zip(images_title, labels_set)):\n",
    "#     img = mpimg.imread('/Users/angel/OneDrive/Desktop/CS 4100/train-jpg/train-jpg' + '/' + image_name)\n",
    "#     axs[i].imshow(img)\n",
    "#     axs[i].set_title('{} - {}'.format(image_name, label))\n"
   ]
  },
  {
   "cell_type": "code",
   "execution_count": 5,
   "metadata": {},
   "outputs": [],
   "source": [
    "train_jpeg_dir = '/Users/angel/OneDrive/Desktop/CS 4100/train-jpg/train-jpg'\n",
    "train_csv_file = '/Users/angel/OneDrive/Desktop/CS 4100/Satellite_Image_Classifier/data/train_v2.csv'\n",
    "test_jpeg_dir = '/Users/angel/OneDrive/Desktop/CS 4100/test-jpg/test-jpg'\n",
    "test_additional_jpeg_dir = '/Users/angel/OneDrive/Desktop/CS 4100/Satellite_Image_Classifier/data/test_v2_file_mapping.csv'\n",
    "img_resize = (128, 128)  # Desired image size\n",
    "validation_split = 0.2\n",
    "batch_size = 32\n",
    "AUTOTUNE = tf.data.AUTOTUNE\n",
    "\n",
    "# Step 1: Read Labels and File Paths\n",
    "labels_df = pd.read_csv(train_csv_file)\n",
    "\n",
    "# Step 2: Extract all unique labels\n",
    "labels = sorted(set(chain.from_iterable([tags.split(\" \") for tags in labels_df['tags'].values])))\n",
    "\n",
    "# Step 3: Create a mapping from label to index\n",
    "labels_map = {label: idx for idx, label in enumerate(labels)}\n",
    "num_classes = len(labels_map)\n",
    "\n",
    "# Step 4: Map Labels to Integers and One-Hot Encode\n",
    "def encode_tags(tags_str):\n",
    "    tags = tags_str.split(' ')\n",
    "    targets = np.zeros(num_classes, dtype='float32')\n",
    "    for tag in tags:\n",
    "        targets[labels_map[tag]] = 1.0\n",
    "    return targets\n",
    "\n",
    "labels_df['targets'] = labels_df['tags'].apply(encode_tags)\n"
   ]
  },
  {
   "cell_type": "code",
   "execution_count": 6,
   "metadata": {},
   "outputs": [
    {
     "name": "stdout",
     "output_type": "stream",
     "text": [
      "32383 8096\n"
     ]
    }
   ],
   "source": [
    "# Step 5: Split Data into Training and Validation Sets\n",
    "train_df, val_df = train_test_split(labels_df, test_size=validation_split, random_state=42)\n",
    "\n",
    "# Reset indices\n",
    "train_df = train_df.reset_index(drop=True)\n",
    "val_df = val_df.reset_index(drop=True)\n",
    "\n",
    "print(len(train_df), len(val_df))"
   ]
  },
  {
   "cell_type": "code",
   "execution_count": 7,
   "metadata": {},
   "outputs": [],
   "source": [
    "# Step 6: Define the Pure Python Image Loading Function\n",
    "def _load_image(path_str):\n",
    "    \"\"\"\n",
    "    Load and preprocess an image from a given file path.\n",
    "\n",
    "    Args:\n",
    "        path_str (bytes): The file path as a bytes object.\n",
    "\n",
    "    Returns:\n",
    "        np.ndarray: The preprocessed image as a NumPy array.\n",
    "    \"\"\"\n",
    "    try:\n",
    "        from PIL import Image  # Import inside the function to ensure accessibility\n",
    "\n",
    "        # Decode the bytes to a UTF-8 string\n",
    "        path_str = path_str.decode('utf-8')\n",
    "\n",
    "        # Open the image using PIL\n",
    "        with Image.open(path_str) as img:\n",
    "            # Convert image to RGB (handles CMYK and other modes)\n",
    "            img = img.convert('RGB')\n",
    "            # Resize the image\n",
    "            img = img.resize(img_resize)\n",
    "            # Convert to NumPy array and normalize to [0, 1]\n",
    "            img_array = np.array(img).astype(np.float32) / 255.0\n",
    "            # Normalize to [-1, 1]\n",
    "            img_array = (img_array * 2.0) - 1.0\n",
    "\n",
    "        return img_array\n",
    "    except Exception as e:\n",
    "        print(f\"Error loading image {path_str}: {e}\")\n",
    "        # Return a zero tensor as a placeholder to prevent pipeline failure\n",
    "        return np.zeros([img_resize[0], img_resize[1], 3], dtype=np.float32)"
   ]
  },
  {
   "cell_type": "code",
   "execution_count": 8,
   "metadata": {},
   "outputs": [],
   "source": [
    "# Step 7: Define the TensorFlow Wrapper Function using tf.numpy_function\n",
    "def load_and_preprocess_image_numpy(path, label):\n",
    "    \"\"\"\n",
    "    TensorFlow wrapper for loading and preprocessing an image using tf.numpy_function.\n",
    "\n",
    "    Args:\n",
    "        path (tf.Tensor): The file path as a TensorFlow string tensor.\n",
    "        label (tf.Tensor): The corresponding label tensor.\n",
    "\n",
    "    Returns:\n",
    "        tuple: A tuple of the preprocessed image tensor and label tensor.\n",
    "    \"\"\"\n",
    "    # Use tf.numpy_function to apply the pure Python _load_image function\n",
    "    image = tf.numpy_function(func=_load_image, inp=[path], Tout=tf.float32)\n",
    "\n",
    "    # Set the shape of the image tensor\n",
    "    image.set_shape([img_resize[0], img_resize[1], 3])\n",
    "\n",
    "    return image, label"
   ]
  },
  {
   "cell_type": "code",
   "execution_count": 9,
   "metadata": {},
   "outputs": [],
   "source": [
    "def augment_image(image, label):\n",
    "    \"\"\"\n",
    "    Apply data augmentation to the image.\n",
    "    \n",
    "    Args:\n",
    "        image (tf.Tensor): The input image tensor.\n",
    "        label (tf.Tensor): The corresponding label tensor.\n",
    "    \n",
    "    Returns:\n",
    "        tuple: The augmented image tensor and the original label tensor.\n",
    "    \"\"\"\n",
    "    image = data_augmentation(image)\n",
    "    return image, label"
   ]
  },
  {
   "cell_type": "code",
   "execution_count": 10,
   "metadata": {},
   "outputs": [],
   "source": [
    "# Step 8: Define the Dataset Creation Function using tf.numpy_function\n",
    "def create_dataset_numpy(df, training=True):\n",
    "    \"\"\"\n",
    "    Create a TensorFlow dataset from a DataFrame using tf.numpy_function.\n",
    "\n",
    "    Args:\n",
    "        df (pd.DataFrame): DataFrame containing image paths and labels.\n",
    "        training (bool): Whether the dataset is for training (enables shuffling).\n",
    "\n",
    "    Returns:\n",
    "        tf.data.Dataset: The prepared dataset.\n",
    "    \"\"\"\n",
    "    # Construct full file paths\n",
    "    image_paths = df['image_name'].apply(lambda x: os.path.join(train_jpeg_dir, f\"{x}.jpg\")).tolist()\n",
    "    labels = np.stack(df['targets'].values)\n",
    "\n",
    "    # Create a TensorFlow Dataset from the file paths and labels\n",
    "    dataset = tf.data.Dataset.from_tensor_slices((image_paths, labels))\n",
    "\n",
    "    # Map the load_and_preprocess_image_numpy function to the dataset\n",
    "    dataset = dataset.map(load_and_preprocess_image_numpy, num_parallel_calls=AUTOTUNE)\n",
    "\n",
    "    if training:\n",
    "        # Shuffle the dataset for training\n",
    "        dataset = dataset.shuffle(buffer_size=1000)\n",
    "        # Apply data augmentation\n",
    "        dataset = dataset.map(augment_image, num_parallel_calls=AUTOTUNE)\n",
    "\n",
    "    # Batch and prefetch the dataset for optimal performance\n",
    "    dataset = dataset.batch(batch_size).prefetch(AUTOTUNE)\n",
    "\n",
    "    return dataset"
   ]
  },
  {
   "cell_type": "code",
   "execution_count": 11,
   "metadata": {},
   "outputs": [
    {
     "name": "stdout",
     "output_type": "stream",
     "text": [
      "\n",
      "Verifying Training Dataset with tf.numpy_function:\n",
      "Image tensor shape: (32, 128, 128, 3)\n",
      "Image tensor dtype: <dtype: 'float32'>\n",
      "Image tensor min value: -0.9998243\n",
      "Image tensor max value: 0.88782966\n",
      "Image tensor mean value: -0.32921365\n"
     ]
    }
   ],
   "source": [
    "# Step 9: Create Training and Validation Datasets using tf.numpy_function\n",
    "train_dataset_numpy = create_dataset_numpy(train_df, training=True)\n",
    "val_dataset_numpy = create_dataset_numpy(val_df, training=False)\n",
    "\n",
    "#print(len(train_dataset_numpy),len (val_dataset_numpy))\n",
    "\n",
    "# Step 10: Verify the Datasets\n",
    "print(\"\\nVerifying Training Dataset with tf.numpy_function:\")\n",
    "for images, labels in train_dataset_numpy.take(1):\n",
    "    print(\"Image tensor shape:\", images.shape)\n",
    "    print(\"Image tensor dtype:\", images.dtype)\n",
    "    print(\"Image tensor min value:\", tf.reduce_min(images).numpy())\n",
    "    print(\"Image tensor max value:\", tf.reduce_max(images).numpy())\n",
    "    print(\"Image tensor mean value:\", tf.reduce_mean(images).numpy())\n",
    "    break"
   ]
  },
  {
   "cell_type": "code",
   "execution_count": 12,
   "metadata": {},
   "outputs": [
    {
     "name": "stdout",
     "output_type": "stream",
     "text": [
      "40669\n",
      "32\n"
     ]
    },
    {
     "data": {
      "text/plain": [
       "<Figure size 1000x1000 with 0 Axes>"
      ]
     },
     "metadata": {},
     "output_type": "display_data"
    }
   ],
   "source": [
    "# Step 12: Create Test Dataset using tf.numpy_function and PIL-based Loader\n",
    "def load_and_preprocess_test_image_numpy(path):\n",
    "    \"\"\"\n",
    "    TensorFlow wrapper for loading and preprocessing test images using tf.numpy_function.\n",
    "\n",
    "    Args:\n",
    "        path (tf.Tensor): The file path as a TensorFlow string tensor.\n",
    "\n",
    "    Returns:\n",
    "        tf.Tensor: The preprocessed image tensor.\n",
    "    \"\"\"\n",
    "    # Use tf.numpy_function to apply the pure Python _load_image function\n",
    "    image = tf.numpy_function(func=_load_image, inp=[path], Tout=tf.float32)\n",
    "\n",
    "    # Set the shape of the image tensor\n",
    "    image.set_shape([img_resize[0], img_resize[1], 3])\n",
    "\n",
    "    return image\n",
    "\n",
    "# Get test file paths\n",
    "test_files = [os.path.join(test_jpeg_dir, f) for f in os.listdir(test_jpeg_dir)]\n",
    "\n",
    "print(len(test_files))\n",
    "\n",
    "# Create test dataset using the PIL-based loader\n",
    "test_dataset = tf.data.Dataset.from_tensor_slices(test_files)\n",
    "test_dataset = test_dataset.map(load_and_preprocess_test_image_numpy, num_parallel_calls=AUTOTUNE)\n",
    "test_dataset = test_dataset.batch(batch_size).prefetch(AUTOTUNE)\n",
    "\n",
    "# (Optional) Visualize Test Images Without Labels\n",
    "num_test_images_to_display = 9\n",
    "plt.figure(figsize=(10, 10))\n",
    "\n",
    "for images in test_dataset.take(1):\n",
    "    test_images_np = images.numpy()\n",
    "\n",
    "    # Convert images from [-1, 1] to [0, 1] for visualization\n",
    "    test_images_np = (test_images_np + 1.0) / 2.0\n",
    "    break\n",
    "\n",
    "print(len(test_images_np))\n",
    "\n",
    "# for i in range(num_test_images_to_display):\n",
    "#     ax = plt.subplot(3, 3, i + 1)\n",
    "#     plt.imshow(test_images_np[i])\n",
    "#     plt.axis(\"off\")\n",
    "# plt.tight_layout()\n",
    "# plt.show()"
   ]
  },
  {
   "cell_type": "code",
   "execution_count": 42,
   "metadata": {},
   "outputs": [
    {
     "name": "stdout",
     "output_type": "stream",
     "text": [
      "All images (x): (8096, 128, 128, 3)\n",
      "All labels (y): (8096, 17)\n"
     ]
    }
   ],
   "source": [
    "from sklearn.model_selection import train_test_split\n",
    "from sklearn.metrics import accuracy_score\n",
    "import cv2\n",
    "import tensorflow as tf\n",
    "from tensorflow.keras import layers, models\n",
    "\n",
    "# Convert dataset into numpy arrays\n",
    "x_train_data = []\n",
    "y_train_data = []\n",
    "\n",
    "x_test_data = []\n",
    "y_test_data = []\n",
    "\n",
    "for x_batch, y_batch in train_dataset_numpy:\n",
    "    x_train_data.append(x_batch.numpy())  # Add images to list\n",
    "    y_train_data.append(y_batch.numpy())  # Add labels to list\n",
    "\n",
    "for x_batch, y_batch in val_dataset_numpy:\n",
    "    x_test_data.append(x_batch.numpy())  # Add images to list\n",
    "    y_test_data.append(y_batch.numpy())  # Add labels to list\n",
    "\n",
    "# Concatenate to get all data\n",
    "x_train_data = np.concatenate(x_train_data, axis=0)\n",
    "y_train_data = np.concatenate(y_train_data, axis=0)\n",
    "x_test_data = np.concatenate(x_test_data, axis=0)\n",
    "y_test_data = np.concatenate(y_test_data, axis=0)\n",
    "\n",
    "print(\"All images (x):\", x_test_data.shape)\n",
    "print(\"All labels (y):\", y_test_data.shape)\n",
    "\n",
    "\n"
   ]
  },
  {
   "cell_type": "code",
   "execution_count": null,
   "metadata": {},
   "outputs": [
    {
     "name": "stdout",
     "output_type": "stream",
     "text": [
      "[0. 0. 0. 0. 0. 1. 0. 0. 0. 0. 0. 0. 1. 1. 0. 0. 0.]\n"
     ]
    },
    {
     "name": "stderr",
     "output_type": "stream",
     "text": [
      "c:\\Users\\angel\\AppData\\Local\\Programs\\Python\\Python312\\Lib\\site-packages\\keras\\src\\layers\\convolutional\\base_conv.py:107: UserWarning: Do not pass an `input_shape`/`input_dim` argument to a layer. When using Sequential models, prefer using an `Input(shape)` object as the first layer in the model instead.\n",
      "  super().__init__(activity_regularizer=activity_regularizer, **kwargs)\n"
     ]
    },
    {
     "name": "stdout",
     "output_type": "stream",
     "text": [
      "Epoch 1/7\n",
      "\u001b[1m810/810\u001b[0m \u001b[32m━━━━━━━━━━━━━━━━━━━━\u001b[0m\u001b[37m\u001b[0m \u001b[1m69s\u001b[0m 84ms/step - accuracy: 0.0326 - loss: 0.2283 - val_accuracy: 0.0994 - val_loss: 0.1653\n",
      "Epoch 2/7\n",
      "\u001b[1m810/810\u001b[0m \u001b[32m━━━━━━━━━━━━━━━━━━━━\u001b[0m\u001b[37m\u001b[0m \u001b[1m69s\u001b[0m 85ms/step - accuracy: 0.0878 - loss: 0.1571 - val_accuracy: 0.1275 - val_loss: 0.1488\n",
      "Epoch 3/7\n",
      "\u001b[1m810/810\u001b[0m \u001b[32m━━━━━━━━━━━━━━━━━━━━\u001b[0m\u001b[37m\u001b[0m \u001b[1m68s\u001b[0m 85ms/step - accuracy: 0.0921 - loss: 0.1431 - val_accuracy: 0.0553 - val_loss: 0.1455\n",
      "Epoch 4/7\n",
      "\u001b[1m810/810\u001b[0m \u001b[32m━━━━━━━━━━━━━━━━━━━━\u001b[0m\u001b[37m\u001b[0m \u001b[1m69s\u001b[0m 85ms/step - accuracy: 0.0854 - loss: 0.1343 - val_accuracy: 0.0689 - val_loss: 0.1417\n",
      "Epoch 5/7\n",
      "\u001b[1m810/810\u001b[0m \u001b[32m━━━━━━━━━━━━━━━━━━━━\u001b[0m\u001b[37m\u001b[0m \u001b[1m69s\u001b[0m 86ms/step - accuracy: 0.0839 - loss: 0.1279 - val_accuracy: 0.0848 - val_loss: 0.1374\n",
      "Epoch 6/7\n",
      "\u001b[1m810/810\u001b[0m \u001b[32m━━━━━━━━━━━━━━━━━━━━\u001b[0m\u001b[37m\u001b[0m \u001b[1m68s\u001b[0m 85ms/step - accuracy: 0.0829 - loss: 0.1207 - val_accuracy: 0.0713 - val_loss: 0.1341\n",
      "Epoch 7/7\n",
      "\u001b[1m810/810\u001b[0m \u001b[32m━━━━━━━━━━━━━━━━━━━━\u001b[0m\u001b[37m\u001b[0m \u001b[1m69s\u001b[0m 85ms/step - accuracy: 0.0862 - loss: 0.1131 - val_accuracy: 0.0712 - val_loss: 0.1329\n",
      "\u001b[1m253/253\u001b[0m \u001b[32m━━━━━━━━━━━━━━━━━━━━\u001b[0m\u001b[37m\u001b[0m \u001b[1m7s\u001b[0m 28ms/step\n"
     ]
    }
   ],
   "source": [
    "print(y_test_data[0])\n",
    "# Split the data into training and testing sets\n",
    "#X_train, X_test, y_train, y_test = train_test_split(X, y_encoded, test_size=0.2, random_state=42)\n",
    "\n",
    "model = models.Sequential([\n",
    "    layers.Conv2D(32, (3, 3), activation='relu', input_shape=(img_resize[0], img_resize[1], 3)),\n",
    "    layers.MaxPooling2D((2, 2)),\n",
    "\n",
    "    layers.Conv2D(64, (3, 3), activation='relu'),\n",
    "    layers.MaxPooling2D((2, 2)),\n",
    "\n",
    "    layers.Conv2D(128, (3, 3), activation='relu'),\n",
    "    layers.MaxPooling2D((2, 2)),\n",
    "\n",
    "    layers.Conv2D(128, (3, 3), activation='relu'),\n",
    "    layers.MaxPooling2D((2, 2)),\n",
    "    \n",
    "    layers.Flatten(),\n",
    "    layers.Dense(128, activation='relu'),\n",
    "    layers.Dense(num_classes, activation='sigmoid')  # Use the number of unique classes\n",
    "])\n",
    "\n",
    "model.compile(optimizer='adam', loss='binary_crossentropy', metrics=['accuracy'])\n",
    "\n",
    "model.fit(x_train_data, y_train_data, epochs=7, batch_size=batch_size, validation_split=0.2)\n",
    "\n",
    "\n",
    "# print(f\"Test accuracy: {accuracy}\")\n",
    "from sklearn.metrics import classification_report\n",
    "\n",
    "# Predict on test data\n",
    "y_pred_prob = model.predict(x_test_data)\n",
    "\n",
    "# Create different probability thresholds depending on the amount of samples for each class\n",
    "thresholds = [0.5, 0.1, 0.3, 0.1, 0.1, .5, .4, .1, .4, .4, .4,  .5, .5, .5, .2, .2, .5]  # Custom threshold for each class\n",
    "predicted_classes = np.array([pred > threshold for pred, threshold in zip(y_pred_prob.T, thresholds)]).T.astype(int)\n",
    "\n",
    "y_pred = (y_pred_prob > 0.5).astype(int)  # Threshold probabilities at 0.5\n",
    "\n",
    "# Example of printing a prediction\n",
    "# for i in range(5):  # Print first 5 predictions\n",
    "#     print(f\"Predicted class for test image {i}: {predicted_classes[i]} (Actual class: {y_train_data[i]})\")"
   ]
  },
  {
   "cell_type": "code",
   "execution_count": 153,
   "metadata": {},
   "outputs": [
    {
     "name": "stdout",
     "output_type": "stream",
     "text": [
      "                   precision    recall  f1-score   support\n",
      "\n",
      "      agriculture       0.76      0.79      0.77      2441\n",
      "   artisinal_mine       0.61      0.43      0.50        70\n",
      "      bare_ground       0.83      0.03      0.06       175\n",
      "         blooming       0.00      0.00      0.00        64\n",
      "        blow_down       0.00      0.00      0.00        25\n",
      "            clear       0.94      0.98      0.96      5728\n",
      "           cloudy       0.90      0.68      0.77       395\n",
      "conventional_mine       0.00      0.00      0.00        22\n",
      "      cultivation       0.59      0.29      0.39       864\n",
      "       habitation       0.53      0.58      0.55       743\n",
      "             haze       0.75      0.50      0.60       533\n",
      "    partly_cloudy       0.91      0.87      0.89      1440\n",
      "          primary       0.96      1.00      0.98      7507\n",
      "             road       0.65      0.83      0.73      1568\n",
      "selective_logging       0.07      0.02      0.03        61\n",
      "       slash_burn       0.00      0.00      0.00        47\n",
      "            water       0.68      0.40      0.50      1459\n",
      "\n",
      "        micro avg       0.86      0.84      0.85     23142\n",
      "        macro avg       0.54      0.43      0.45     23142\n",
      "     weighted avg       0.85      0.84      0.83     23142\n",
      "      samples avg       0.89      0.86      0.86     23142\n",
      "\n"
     ]
    },
    {
     "name": "stderr",
     "output_type": "stream",
     "text": [
      "c:\\Users\\angel\\AppData\\Local\\Programs\\Python\\Python312\\Lib\\site-packages\\sklearn\\metrics\\_classification.py:1531: UndefinedMetricWarning: Precision is ill-defined and being set to 0.0 in labels with no predicted samples. Use `zero_division` parameter to control this behavior.\n",
      "  _warn_prf(average, modifier, f\"{metric.capitalize()} is\", len(result))\n",
      "c:\\Users\\angel\\AppData\\Local\\Programs\\Python\\Python312\\Lib\\site-packages\\sklearn\\metrics\\_classification.py:1531: UndefinedMetricWarning: Precision is ill-defined and being set to 0.0 in samples with no predicted labels. Use `zero_division` parameter to control this behavior.\n",
      "  _warn_prf(average, modifier, f\"{metric.capitalize()} is\", len(result))\n"
     ]
    }
   ],
   "source": [
    "print(classification_report(y_test_data, y_pred, target_names=labels_map))\n",
    "\n"
   ]
  },
  {
   "cell_type": "code",
   "execution_count": 152,
   "metadata": {},
   "outputs": [
    {
     "name": "stdout",
     "output_type": "stream",
     "text": [
      "                   precision    recall  f1-score   support\n",
      "\n",
      "      agriculture       0.76      0.79      0.77      2441\n",
      "   artisinal_mine       0.40      0.63      0.49        70\n",
      "      bare_ground       0.52      0.07      0.13       175\n",
      "         blooming       0.13      0.41      0.19        64\n",
      "        blow_down       0.00      0.00      0.00        25\n",
      "            clear       0.94      0.98      0.96      5728\n",
      "           cloudy       0.78      0.86      0.82       395\n",
      "conventional_mine       0.12      0.27      0.16        22\n",
      "      cultivation       0.40      0.55      0.46       864\n",
      "       habitation       0.49      0.62      0.55       743\n",
      "             haze       0.61      0.65      0.63       533\n",
      "    partly_cloudy       0.90      0.88      0.89      1440\n",
      "          primary       0.96      1.00      0.98      7507\n",
      "             road       0.65      0.83      0.73      1568\n",
      "selective_logging       0.14      0.44      0.21        61\n",
      "       slash_burn       0.09      0.09      0.09        47\n",
      "            water       0.53      0.56      0.55      1459\n",
      "\n",
      "        micro avg       0.81      0.87      0.84     23142\n",
      "        macro avg       0.50      0.57      0.51     23142\n",
      "     weighted avg       0.82      0.87      0.84     23142\n",
      "      samples avg       0.85      0.89      0.86     23142\n",
      "\n"
     ]
    }
   ],
   "source": [
    "thresholds = [0.5, 0.15, 0.3, 0.15, 0.15, .5, .2, .03, .25, .45, .25, .4, .5, .5, .1, .06, .35]  # Custom threshold for each class\n",
    "predicted_classes = np.array([pred > threshold for pred, threshold in zip(y_pred_prob.T, thresholds)]).T.astype(int)\n",
    "print(classification_report(y_test_data, predicted_classes, target_names=labels_map))\n"
   ]
  },
  {
   "cell_type": "code",
   "execution_count": 160,
   "metadata": {},
   "outputs": [
    {
     "name": "stdout",
     "output_type": "stream",
     "text": [
      "{'agriculture': {'precision': 0.7593984962406015, 'recall': 0.786153215895125, 'f1-score': 0.7725442834138486, 'support': 2441.0}, 'artisinal_mine': {'precision': 0.4, 'recall': 0.6285714285714286, 'f1-score': 0.4888888888888889, 'support': 70.0}, 'bare_ground': {'precision': 0.52, 'recall': 0.07428571428571429, 'f1-score': 0.13, 'support': 175.0}, 'blooming': {'precision': 0.12807881773399016, 'recall': 0.40625, 'f1-score': 0.1947565543071161, 'support': 64.0}, 'blow_down': {'precision': 0.0, 'recall': 0.0, 'f1-score': 0.0, 'support': 25.0}, 'clear': {'precision': 0.9359638856378532, 'recall': 0.977304469273743, 'f1-score': 0.9561875480399693, 'support': 5728.0}, 'cloudy': {'precision': 0.7780320366132724, 'recall': 0.8607594936708861, 'f1-score': 0.8173076923076923, 'support': 395.0}, 'conventional_mine': {'precision': 0.11538461538461539, 'recall': 0.2727272727272727, 'f1-score': 0.16216216216216217, 'support': 22.0}, 'cultivation': {'precision': 0.40134907251264756, 'recall': 0.5509259259259259, 'f1-score': 0.46439024390243905, 'support': 864.0}, 'habitation': {'precision': 0.49306296691568835, 'recall': 0.6218034993270525, 'f1-score': 0.55, 'support': 743.0}, 'haze': {'precision': 0.6145648312611013, 'recall': 0.649155722326454, 'f1-score': 0.6313868613138686, 'support': 533.0}, 'partly_cloudy': {'precision': 0.8984485190409027, 'recall': 0.8847222222222222, 'f1-score': 0.8915325402379286, 'support': 1440.0}, 'primary': {'precision': 0.9635027082795976, 'recall': 0.9952044758225657, 'f1-score': 0.9790970447546032, 'support': 7507.0}, 'road': {'precision': 0.6520644511581067, 'recall': 0.8258928571428571, 'f1-score': 0.7287563308947664, 'support': 1568.0}, 'selective_logging': {'precision': 0.13917525773195877, 'recall': 0.4426229508196721, 'f1-score': 0.21176470588235294, 'support': 61.0}, 'slash_burn': {'precision': 0.09302325581395349, 'recall': 0.0851063829787234, 'f1-score': 0.08888888888888889, 'support': 47.0}, 'water': {'precision': 0.5300581771170007, 'recall': 0.5620287868403016, 'f1-score': 0.5455755156353959, 'support': 1459.0}, 'micro avg': {'precision': 0.8059683556979772, 'recall': 0.8694581280788177, 'f1-score': 0.8365102791693516, 'support': 23142.0}, 'macro avg': {'precision': 0.49541806420242884, 'recall': 0.5660890834017615, 'f1-score': 0.5066611329782307, 'support': 23142.0}, 'weighted avg': {'precision': 0.8222305715483719, 'recall': 0.8694581280788177, 'f1-score': 0.8423966981432977, 'support': 23142.0}, 'samples avg': {'precision': 0.8513329627799736, 'recall': 0.8935798689535103, 'f1-score': 0.8590621890461317, 'support': 23142.0}}\n"
     ]
    },
    {
     "data": {
      "image/png": "[encoded data removed]",
      "text/plain": [
       "<Figure size 1200x600 with 1 Axes>"
      ]
     },
     "metadata": {},
     "output_type": "display_data"
    }
   ],
   "source": [
    "import matplotlib.pyplot as plt\n",
    "from sklearn.metrics import classification_report\n",
    "import numpy as np\n",
    "\n",
    "# Example classification report (dictionary format or generated from sklearn)\n",
    "report = classification_report(y_test_data, predicted_classes, target_names=labels_map, output_dict=True)\n",
    "print(report)\n",
    "class_f1_scores = {\n",
    "    k: v[\"f1-score\"] for k, v in report.items() if k not in [\"micro avg\", \"macro avg\", \"weighted avg\", \"samples avg\"]\n",
    "}\n",
    "\n",
    "sorted_scores = sorted(class_f1_scores.items(), key=lambda item: item[1], reverse=True)  # Sort by F1 score descending\n",
    "classes, f1_scores = zip(*sorted_scores)\n",
    "\n",
    "\n",
    "plt.figure(figsize=(12, 6))\n",
    "plt.bar(classes, f1_scores, color=\"skyblue\", alpha=0.8)\n",
    "plt.title(\"F1-Score for Each Class\", fontsize=16)\n",
    "plt.xlabel(\"Class\", fontsize=14)\n",
    "plt.ylabel(\"F1-Score\", fontsize=14)\n",
    "plt.ylim(0, 1)  # F1-scores range between 0 and 1\n",
    "plt.xticks(rotation=45, ha=\"right\")  # Rotate class names for better readability\n",
    "plt.grid(axis=\"y\", linestyle=\"--\", alpha=0.7)\n",
    "plt.tight_layout()  # Adjust layout to prevent overlap\n",
    "plt.show()\n"
   ]
  },
  {
   "cell_type": "code",
   "execution_count": null,
   "metadata": {},
   "outputs": [],
   "source": [
    "import torch\n",
    "import torch.nn as nn\n",
    "import torch.optim as optim\n",
    "from torch.utils.data import DataLoader, TensorDataset\n",
    "\n",
    "device = torch.device(\"cuda\" if torch.cuda.is_available() else \"cpu\")\n",
    "\n",
    "\n",
    "# Hyperparameters\n",
    "epochs = 1\n",
    "learning_rate = 0.001\n",
    "#num_classes = 10  # Set to the correct number of classes\n",
    "img_resize = (128, 128)  # Replace with your actual image size\n",
    "\n",
    "\n",
    "class CNNModel(nn.Module):\n",
    "    def __init__(self, num_classes):\n",
    "        super(CNNModel, self).__init__()\n",
    "\n",
    "        # Convolutional Layers\n",
    "        self.conv1 = nn.Conv2d(3, 32, kernel_size=3, stride=1, padding=0)\n",
    "        self.pool1 = nn.MaxPool2d(kernel_size=2, stride=2)\n",
    "\n",
    "        self.conv2 = nn.Conv2d(32, 64, kernel_size=3, stride=1, padding=0)\n",
    "        self.pool2 = nn.MaxPool2d(kernel_size=2, stride=2)\n",
    "\n",
    "        self.conv3 = nn.Conv2d(64, 128, kernel_size=3, stride=1, padding=0)\n",
    "        self.pool3 = nn.MaxPool2d(kernel_size=2, stride=2)\n",
    "\n",
    "        # Fully Connected Layers\n",
    "        self.fc1 = nn.Linear(128 * 14 * 14, 128)  # Flattened size = 128*14*14\n",
    "        self.fc2 = nn.Linear(128, num_classes)  # Output size equals number of classes\n",
    "\n",
    "    def forward(self, x):\n",
    "        x = self.pool1(torch.relu(self.conv1(x)))  # First Convolutional Layer\n",
    "        x = self.pool2(torch.relu(self.conv2(x)))  # Second Convolutional Layer\n",
    "        x = self.pool3(torch.relu(self.conv3(x)))  # Third Convolutional Layer\n",
    "\n",
    "        x = x.view(-1, 128 * 14 * 14)  # Flatten the tensor\n",
    "        x = torch.relu(self.fc1(x))  # First Fully Connected Layer\n",
    "        x = self.fc2(x)  # Second Fully Connected Layer\n",
    "\n",
    "        return x\n",
    "\n",
    "\n",
    "# Initialize the model, loss function, and optimizer\n",
    "model = CNNModel(num_classes).to(device)  # Send model to GPU\n",
    "criterion = nn.BCEWithLogitsLoss()  # Binary Cross-Entropy Loss for multi-label tasks\n",
    "optimizer = optim.Adam(model.parameters(), lr=0.001)\n",
    "\n",
    "#y_train_data = y_train_data.view(-1, 17)\n",
    "\n",
    "x_train_data_t = torch.tensor(x_train_data, dtype=torch.float32).permute(0, 3, 1, 2)\n",
    "y_train_data_t = torch.tensor(y_train_data, dtype=torch.float32)\n",
    "\n",
    "x_val_data_t = torch.tensor(x_test_data, dtype=torch.float32).permute(0, 3, 1, 2).to(device)\n",
    "y_val_data_t = torch.tensor(y_test_data, dtype=torch.float32).to(device)\n",
    "\n",
    "# x_train_data_t = DataLoader(x_train_data, batch_size=batch_size, shuffle=False)\n",
    "# y_train_data_t = DataLoader(y_train_data, batch_size=batch_size, shuffle=False)\n",
    "# Training the model\n",
    "for epoch in range(epochs):\n",
    "    model.train()\n",
    "    train_loss = 0\n",
    "    for x_batch, y_batch in zip(x_train_data_t, y_train_data_t):\n",
    "        # x_batch = torch.tensor(x_batch, dtype=torch.float32).permute(0, 3, 1, 2).to(device)\n",
    "        # y_batch = torch.tensor(y_batch, dtype=torch.float32).to(device)\n",
    "        #x_batch, y_batch = x_batch.to(device), y_batch.to(device)  # Send data to GPU\n",
    "        \n",
    "        optimizer.zero_grad()\n",
    "        outputs = model(x_batch)\n",
    "        y_batch = y_batch.unsqueeze(0)\n",
    "        loss = criterion(outputs, y_batch)\n",
    "        loss.backward()\n",
    "        optimizer.step()\n",
    "        train_loss += loss.item()\n",
    "    \n",
    "    # Validation\n",
    "    model.eval()\n",
    "    val_loss = 0\n",
    "    preds = []\n",
    "    with torch.no_grad():\n",
    "        for x_batch, y_batch in zip(x_val_data_t, y_val_data_t):\n",
    "            val_outputs = model(x_batch)\n",
    "            preds.append(val_outputs)\n",
    "            y_batch = y_batch.unsqueeze(0)\n",
    "            val_loss += criterion(val_outputs, y_batch).item()\n",
    "    \n",
    "\n",
    "\n"
   ]
  },
  {
   "cell_type": "code",
   "execution_count": 63,
   "metadata": {},
   "outputs": [
    {
     "ename": "RuntimeError",
     "evalue": "a Tensor with 17 elements cannot be converted to Scalar",
     "output_type": "error",
     "traceback": [
      "\u001b[1;31m---------------------------------------------------------------------------\u001b[0m",
      "\u001b[1;31mRuntimeError\u001b[0m                              Traceback (most recent call last)",
      "Cell \u001b[1;32mIn[63], line 6\u001b[0m\n\u001b[0;32m      3\u001b[0m \u001b[38;5;66;03m#predicted_classes2 = np.array([pred > threshold for pred, threshold in zip(preds, thresholds)]).T.astype(int)\u001b[39;00m\n\u001b[0;32m      4\u001b[0m \u001b[38;5;28;01mfrom\u001b[39;00m \u001b[38;5;21;01msklearn\u001b[39;00m\u001b[38;5;21;01m.\u001b[39;00m\u001b[38;5;21;01mmetrics\u001b[39;00m \u001b[38;5;28;01mimport\u001b[39;00m classification_report\n\u001b[1;32m----> 6\u001b[0m preds \u001b[38;5;241m=\u001b[39m [\u001b[43mp\u001b[49m\u001b[38;5;241;43m.\u001b[39;49m\u001b[43mitem\u001b[49m\u001b[43m(\u001b[49m\u001b[43m)\u001b[49m \u001b[38;5;28;01mif\u001b[39;00m \u001b[38;5;28misinstance\u001b[39m(p, torch\u001b[38;5;241m.\u001b[39mTensor) \u001b[38;5;28;01melse\u001b[39;00m p \u001b[38;5;28;01mfor\u001b[39;00m p \u001b[38;5;129;01min\u001b[39;00m preds]\n\u001b[0;32m      7\u001b[0m predictions_tensor \u001b[38;5;241m=\u001b[39m torch\u001b[38;5;241m.\u001b[39mtensor(preds)\n\u001b[0;32m      9\u001b[0m \u001b[38;5;28mprint\u001b[39m(np\u001b[38;5;241m.\u001b[39mshape(preds))\n",
      "\u001b[1;31mRuntimeError\u001b[0m: a Tensor with 17 elements cannot be converted to Scalar"
     ]
    }
   ],
   "source": [
    "thresholds = [0.5, 0.2, 0.3, 0.2, 0.2, .5, .4, .2, .4, .4, .4,  .5, .5, .5, .2, .2, .5]  # Custom threshold for each class\n",
    "predicted_classes = np.array([pred > threshold for pred, threshold in zip(preds, thresholds)]).T.astype(int)\n",
    "#predicted_classes2 = np.array([pred > threshold for pred, threshold in zip(preds, thresholds)]).T.astype(int)\n",
    "from sklearn.metrics import classification_report\n",
    "\n",
    "preds = [p.item() if isinstance(p, torch.Tensor) else p for p in preds]\n",
    "predictions_tensor = torch.tensor(preds)\n",
    "\n",
    "print(np.shape(preds))\n",
    "# Flatten the test labels for comparison\n",
    "print(classification_report(y_val_data_t, predictions_tensor, target_names=labels_map))\n",
    "print(classification_report(y_val_data_t, predicted_classes, target_names=labels_map))\n",
    "\n",
    "#print(f\"Epoch {epoch + 1}/{epochs}, Train Loss: {train_loss / len(x_train_data):.4f}, Val Loss: {val_loss / len(x_test_data):.4f}\")"
   ]
  }
 ],
 "metadata": {
  "kernelspec": {
   "display_name": "Python 3",
   "language": "python",
   "name": "python3"
  },
  "language_info": {
   "codemirror_mode": {
    "name": "ipython",
    "version": 3
   },
   "file_extension": ".py",
   "mimetype": "text/x-python",
   "name": "python",
   "nbconvert_exporter": "python",
   "pygments_lexer": "ipython3",
   "version": "3.12.4"
  }
 },
 "nbformat": 4,
 "nbformat_minor": 2
}
